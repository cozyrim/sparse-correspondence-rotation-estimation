{
 "cells": [
  {
   "cell_type": "code",
   "execution_count": 7,
   "metadata": {},
   "outputs": [
    {
     "name": "stdout",
     "output_type": "stream",
     "text": [
      "U:\n",
      " [[-0.961475  0.274894  0.000054]\n",
      " [-0.274894 -0.961475 -0.000066]\n",
      " [ 0.000034 -0.000078  1.      ]]\n",
      "\n",
      "Σ (Sigma):\n",
      " [[29416.416735     0.           0.      ]\n",
      " [    0.          50.784567     0.      ]\n",
      " [    0.           0.           0.092842]]\n",
      "\n",
      "V^T:\n",
      " [[-0.002309 -0.000696  0.999997]\n",
      " [ 0.072539 -0.997365 -0.000527]\n",
      " [ 0.997363  0.072538  0.002353]]\n"
     ]
    }
   ],
   "source": [
    "import numpy as np\n",
    "\n",
    "# 주어진 호모그래피 행렬 H\n",
    "H = np.array([\n",
    "    [66.32, 5.77, -28283.06],\n",
    "    [15.13, 54.33, -8086.35],\n",
    "    [0.09, 0.01, 1.00]\n",
    "])\n",
    "\n",
    "# SVD 분해\n",
    "U, Sigma, VT = np.linalg.svd(H)\n",
    "\n",
    "# 특이값 행렬 Sigma를 대각 행렬로 변환\n",
    "Sigma_matrix = np.zeros((3, 3))\n",
    "np.fill_diagonal(Sigma_matrix, Sigma)\n",
    "\n",
    "# 결과 출력\n",
    "print(\"U:\\n\", U)\n",
    "print(\"\\nΣ (Sigma):\\n\", Sigma_matrix)\n",
    "print(\"\\nV^T:\\n\", VT)\n"
   ]
  },
  {
   "cell_type": "code",
   "execution_count": null,
   "metadata": {},
   "outputs": [],
   "source": []
  }
 ],
 "metadata": {
  "kernelspec": {
   "display_name": "Python 3",
   "language": "python",
   "name": "python3"
  },
  "language_info": {
   "codemirror_mode": {
    "name": "ipython",
    "version": 3
   },
   "file_extension": ".py",
   "mimetype": "text/x-python",
   "name": "python",
   "nbconvert_exporter": "python",
   "pygments_lexer": "ipython3",
   "version": "3.9.0"
  }
 },
 "nbformat": 4,
 "nbformat_minor": 2
}
